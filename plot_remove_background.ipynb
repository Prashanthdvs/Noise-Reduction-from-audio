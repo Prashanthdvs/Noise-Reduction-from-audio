{
 "cells": [
  {
   "cell_type": "code",
   "execution_count": 1,
   "metadata": {},
   "outputs": [
    {
     "name": "stdout",
     "output_type": "stream",
     "text": [
      "Looking in indexes: https://pypi.org/simple, https://pypi.ngc.nvidia.com\n"
     ]
    },
    {
     "name": "stderr",
     "output_type": "stream",
     "text": [
      "ERROR: Could not find a version that satisfies the requirement maad (from versions: none)\n",
      "ERROR: No matching distribution found for maad\n"
     ]
    }
   ],
   "source": [
    "!pip install maad"
   ]
  },
  {
   "cell_type": "markdown",
   "metadata": {},
   "source": [
    "\n",
    "Remove background noise with signal processing tools\n",
    "====================================================\n",
    "\n",
    "Environmental audio recordings usually have stationary noise that needs to be removed to\n",
    "enhance the signal to noise ratio of biological sounds.\n",
    "This example shows different ways to remove stationary background noise using spectral \n",
    "subtraction techniques. These techniques are applied over the spectrogram and return a 2D matrix. \n",
    "We use the sharpness metric to have a quantitative estimation of how well is the noise \n",
    "reduction. For a more comprehensive analysis, other metrics should be use in complement.\n"
   ]
  },
  {
   "cell_type": "code",
   "execution_count": 3,
   "metadata": {},
   "outputs": [
    {
     "ename": "ModuleNotFoundError",
     "evalue": "No module named 'maad'",
     "output_type": "error",
     "traceback": [
      "\u001b[1;31m---------------------------------------------------------------------------\u001b[0m",
      "\u001b[1;31mModuleNotFoundError\u001b[0m                       Traceback (most recent call last)",
      "\u001b[1;32m~\\AppData\\Local\\Temp\\ipykernel_14460\\2294344465.py\u001b[0m in \u001b[0;36m<module>\u001b[1;34m\u001b[0m\n\u001b[0;32m      1\u001b[0m \u001b[1;31m# sphinx_gallery_thumbnail_path = './_images/sphx_glr_remove_background.png'\u001b[0m\u001b[1;33m\u001b[0m\u001b[1;33m\u001b[0m\u001b[1;33m\u001b[0m\u001b[0m\n\u001b[0;32m      2\u001b[0m \u001b[1;33m\u001b[0m\u001b[0m\n\u001b[1;32m----> 3\u001b[1;33m \u001b[1;32mfrom\u001b[0m \u001b[0mmaad\u001b[0m\u001b[1;33m.\u001b[0m\u001b[0mutil\u001b[0m \u001b[1;32mimport\u001b[0m \u001b[0mplot2d\u001b[0m\u001b[1;33m,\u001b[0m \u001b[0mpower2dB\u001b[0m\u001b[1;33m\u001b[0m\u001b[1;33m\u001b[0m\u001b[0m\n\u001b[0m\u001b[0;32m      4\u001b[0m from maad.sound import (load, spectrogram, \n\u001b[0;32m      5\u001b[0m                        \u001b[0mremove_background\u001b[0m\u001b[1;33m,\u001b[0m \u001b[0mmedian_equalizer\u001b[0m\u001b[1;33m,\u001b[0m\u001b[1;33m\u001b[0m\u001b[1;33m\u001b[0m\u001b[0m\n",
      "\u001b[1;31mModuleNotFoundError\u001b[0m: No module named 'maad'"
     ]
    }
   ],
   "source": [
    "# sphinx_gallery_thumbnail_path = './_images/sphx_glr_remove_background.png'\n",
    "\n",
    "from maad.util import plot2d, power2dB\n",
    "from maad.sound import (load, spectrogram, \n",
    "                       remove_background, median_equalizer, \n",
    "                       remove_background_morpho, \n",
    "                       remove_background_along_axis, sharpness)\n",
    "import numpy as np\n",
    "\n",
    "from timeit import default_timer as timer\n",
    "\n",
    "import matplotlib.pyplot as plt"
   ]
  },
  {
   "cell_type": "markdown",
   "metadata": {},
   "source": [
    "Load and plot the spectrogram of the original audio file\n",
    "--------------------------------------------------------\n",
    "First, we load the audio file and take its spectrogram.\n",
    "The linear spectrogram is then transformed into dB. The dB range is  96dB \n",
    "which is the maximum dB range value for a 16bits audio recording. We add\n",
    "96dB in order to get have only positive values in the spectrogram.\n",
    "\n"
   ]
  },
  {
   "cell_type": "code",
   "execution_count": null,
   "metadata": {},
   "outputs": [],
   "source": [
    "s, fs = load('../../data/tropical_forest_morning.wav')\n",
    "Sxx, tn, fn, ext = spectrogram(s, fs, fcrop=[0,20000], tcrop=[0,60])\n",
    "Sxx_dB = power2dB(Sxx, db_range=96) + 96\n",
    "plot2d(Sxx_dB, extent=ext, title='original',\n",
    "       vmin=np.median(Sxx_dB), vmax=np.median(Sxx_dB)+40)\n",
    "\n",
    "print (\"Original sharpness : %2.3f\" % sharpness(Sxx_dB))"
   ]
  },
  {
   "cell_type": "markdown",
   "metadata": {},
   "source": [
    "Test different methods to remove stationary background noise\n",
    "------------------------------------------------------------\n",
    "Test the function \"remove_background\"\n",
    "\n"
   ]
  },
  {
   "cell_type": "code",
   "execution_count": null,
   "metadata": {},
   "outputs": [],
   "source": [
    "start = timer()\n",
    "X1, noise_profile1, _ = remove_background(Sxx_dB)\n",
    "elapsed_time = timer() - start\n",
    "print(\"---- test remove_background -----\")\n",
    "print(\"duration %2.3f s\" % elapsed_time)\n",
    "print (\"sharpness : %2.3f\" % sharpness(X1))\n",
    "\n",
    "plot2d(X1, extent=ext, title='remove_background',\n",
    "       vmin=np.median(X1), vmax=np.median(X1)+40)"
   ]
  },
  {
   "cell_type": "markdown",
   "metadata": {},
   "source": [
    "Test the function \"median_equalizer\"\n",
    "\n"
   ]
  },
  {
   "cell_type": "code",
   "execution_count": null,
   "metadata": {},
   "outputs": [],
   "source": [
    "start = timer()\n",
    "X2 = median_equalizer(Sxx)\n",
    "X2 = power2dB(X2)\n",
    "elapsed_time = timer() - start\n",
    "print(\"---- test median_equalizer -----\")\n",
    "print(\"duration %2.3f s\" % elapsed_time)\n",
    "print (\"sharpness : %2.3f\" %sharpness(X2))\n",
    "\n",
    "plot2d(X2,extent=ext, title='median_equalizer',\n",
    "       vmin=np.median(X2), vmax=np.median(X2)+40)"
   ]
  },
  {
   "cell_type": "markdown",
   "metadata": {},
   "source": [
    "Test the function \"remove_background_morpho\"\n",
    "\n"
   ]
  },
  {
   "cell_type": "code",
   "execution_count": null,
   "metadata": {},
   "outputs": [],
   "source": [
    "start = timer()\n",
    "X3, noise_profile3,_ = remove_background_morpho(Sxx_dB, q=0.95) \n",
    "elapsed_time = timer() - start\n",
    "print(\"---- test remove_background_morpho -----\")\n",
    "print(\"duration %2.3f s\" % elapsed_time)\n",
    "print (\"sharpness : %2.3f\" %sharpness(X3))\n",
    "\n",
    "plot2d(X3, extent=ext, title='remove_background_morpho',\n",
    "       vmin=np.median(X3), vmax=np.median(X3)+40)"
   ]
  },
  {
   "cell_type": "markdown",
   "metadata": {},
   "source": [
    "Test the function \"remove_background_along_axis\"\n",
    "\n"
   ]
  },
  {
   "cell_type": "code",
   "execution_count": null,
   "metadata": {},
   "outputs": [],
   "source": [
    "start = timer()\n",
    "X4, noise_profile4 = remove_background_along_axis(Sxx_dB,mode='median', axis=1) \n",
    "#X4 = power2dB(X4) \n",
    "elapsed_time = timer() - start\n",
    "print(\"---- test remove_background_along_axis -----\")\n",
    "print(\"duration %2.3f s\" % elapsed_time)\n",
    "print (\"sharpness : %2.3f\" %sharpness(X4))\n",
    "\n",
    "plot2d(X4,  extent=ext, title='remove_background_along_axis',\n",
    "       vmin=np.median(X4), vmax=np.median(X4)+40)\n",
    "\n",
    "plt.tight_layout()"
   ]
  }
 ],
 "metadata": {
  "kernelspec": {
   "display_name": "Python 3 (ipykernel)",
   "language": "python",
   "name": "python3"
  },
  "language_info": {
   "codemirror_mode": {
    "name": "ipython",
    "version": 3
   },
   "file_extension": ".py",
   "mimetype": "text/x-python",
   "name": "python",
   "nbconvert_exporter": "python",
   "pygments_lexer": "ipython3",
   "version": "3.7.2"
  }
 },
 "nbformat": 4,
 "nbformat_minor": 1
}
